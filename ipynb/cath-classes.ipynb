{
 "cells": [
  {
   "cell_type": "code",
   "execution_count": 46,
   "metadata": {},
   "outputs": [],
   "source": [
    "from collections import Counter\n",
    "\n",
    "import numpy as np\n",
    "import pandas as pd\n",
    "import seaborn as sns\n",
    "import matplotlib.pyplot as plt\n",
    "from sklearn.metrics import confusion_matrix"
   ]
  },
  {
   "cell_type": "code",
   "execution_count": 147,
   "metadata": {
    "scrolled": true
   },
   "outputs": [
    {
     "data": {
      "text/html": [
       "<div>\n",
       "<style scoped>\n",
       "    .dataframe tbody tr th:only-of-type {\n",
       "        vertical-align: middle;\n",
       "    }\n",
       "\n",
       "    .dataframe tbody tr th {\n",
       "        vertical-align: top;\n",
       "    }\n",
       "\n",
       "    .dataframe thead th {\n",
       "        text-align: right;\n",
       "    }\n",
       "</style>\n",
       "<table border=\"1\" class=\"dataframe\">\n",
       "  <thead>\n",
       "    <tr style=\"text-align: right;\">\n",
       "      <th></th>\n",
       "      <th>DOMAIN</th>\n",
       "      <th>CLASS</th>\n",
       "      <th>ARCH</th>\n",
       "      <th>TOPOL</th>\n",
       "      <th>HOMOL</th>\n",
       "      <th>class</th>\n",
       "    </tr>\n",
       "  </thead>\n",
       "  <tbody>\n",
       "    <tr>\n",
       "      <th>0</th>\n",
       "      <td>1oaiA00</td>\n",
       "      <td>Mainly Alpha</td>\n",
       "      <td>Orthogonal Bundle</td>\n",
       "      <td>Helicase, Ruva Protein; domain 3</td>\n",
       "      <td>DNA helicase RuvA subunit, C-terminal domain</td>\n",
       "      <td>510</td>\n",
       "    </tr>\n",
       "    <tr>\n",
       "      <th>4</th>\n",
       "      <td>3b89A01</td>\n",
       "      <td>Mainly Alpha</td>\n",
       "      <td>Orthogonal Bundle</td>\n",
       "      <td>Helicase, Ruva Protein; domain 3</td>\n",
       "      <td>DNA helicase RuvA subunit, C-terminal domain</td>\n",
       "      <td>510</td>\n",
       "    </tr>\n",
       "    <tr>\n",
       "      <th>6</th>\n",
       "      <td>4heoA00</td>\n",
       "      <td>Mainly Alpha</td>\n",
       "      <td>Orthogonal Bundle</td>\n",
       "      <td>Helicase, Ruva Protein; domain 3</td>\n",
       "      <td>DNA helicase RuvA subunit, C-terminal domain</td>\n",
       "      <td>510</td>\n",
       "    </tr>\n",
       "    <tr>\n",
       "      <th>12</th>\n",
       "      <td>4wp2A00</td>\n",
       "      <td>Mainly Alpha</td>\n",
       "      <td>Orthogonal Bundle</td>\n",
       "      <td>Helicase, Ruva Protein; domain 3</td>\n",
       "      <td>DNA helicase RuvA subunit, C-terminal domain</td>\n",
       "      <td>510</td>\n",
       "    </tr>\n",
       "    <tr>\n",
       "      <th>16</th>\n",
       "      <td>1oksA00</td>\n",
       "      <td>Mainly Alpha</td>\n",
       "      <td>Orthogonal Bundle</td>\n",
       "      <td>Helicase, Ruva Protein; domain 3</td>\n",
       "      <td>DNA helicase RuvA subunit, C-terminal domain</td>\n",
       "      <td>510</td>\n",
       "    </tr>\n",
       "  </tbody>\n",
       "</table>\n",
       "</div>"
      ],
      "text/plain": [
       "     DOMAIN         CLASS               ARCH  \\\n",
       "0   1oaiA00  Mainly Alpha  Orthogonal Bundle   \n",
       "4   3b89A01  Mainly Alpha  Orthogonal Bundle   \n",
       "6   4heoA00  Mainly Alpha  Orthogonal Bundle   \n",
       "12  4wp2A00  Mainly Alpha  Orthogonal Bundle   \n",
       "16  1oksA00  Mainly Alpha  Orthogonal Bundle   \n",
       "\n",
       "                               TOPOL  \\\n",
       "0   Helicase, Ruva Protein; domain 3   \n",
       "4   Helicase, Ruva Protein; domain 3   \n",
       "6   Helicase, Ruva Protein; domain 3   \n",
       "12  Helicase, Ruva Protein; domain 3   \n",
       "16  Helicase, Ruva Protein; domain 3   \n",
       "\n",
       "                                           HOMOL  class  \n",
       "0   DNA helicase RuvA subunit, C-terminal domain    510  \n",
       "4   DNA helicase RuvA subunit, C-terminal domain    510  \n",
       "6   DNA helicase RuvA subunit, C-terminal domain    510  \n",
       "12  DNA helicase RuvA subunit, C-terminal domain    510  \n",
       "16  DNA helicase RuvA subunit, C-terminal domain    510  "
      ]
     },
     "execution_count": 147,
     "metadata": {},
     "output_type": "execute_result"
    }
   ],
   "source": [
    "cath_annotation_frame  = pd.read_table(\"../data/domain-classifications.tsv\")\n",
    "cath_topol_idxmap = dict(map(lambda x: x[::-1], enumerate(sorted(cath_annotation_frame.TOPOL.unique()))))\n",
    "cath_annotation_frame['class'] = cath_annotation_frame.TOPOL.apply(cath_topol_idxmap.get) \n",
    "\n",
    "with open(\"../data/cath-dataset-nonredundant-S40.list\", 'r') as caths40:\n",
    "    cath_s40_domains = list(map(lambda x: x.strip(), caths40))\n",
    "    \n",
    "cath_annotation_frame = cath_annotation_frame[cath_annotation_frame.DOMAIN.isin(cath_s40_domains)].copy()\n",
    "cath_annotation_frame.head()"
   ]
  },
  {
   "cell_type": "code",
   "execution_count": 184,
   "metadata": {},
   "outputs": [
    {
     "data": {
      "image/png": "[encoded data removed]",
      "text/plain": [
       "<Figure size 432x288 with 1 Axes>"
      ]
     },
     "metadata": {
      "needs_background": "light"
     },
     "output_type": "display_data"
    }
   ],
   "source": [
    "vc = cath_annotation_frame['class'].value_counts() # counts of each topology class\n",
    "counts = vc.values                              \n",
    "counts_counts = Counter(counts)                    # frequency of each count (i.e, 99 classes with 1 sample)\n",
    "\n",
    "unique_counts = sorted(list(counts_counts.keys())) # unique set of count values (size K)\n",
    "dist = np.array(range(len(unique_counts))) / float(len(unique_counts)) # K linearly spaced bins\n",
    "\n",
    "frac = 0.05\n",
    "closest = min(dist, key=lambda x: abs(x - frac))\n",
    "idx   = list(dist).index(closest)\n",
    "xval = unique_counts[idx]  # the count value @ corresponding to frac (the yval)\n",
    "lower  = vc[vc < xval] # the number of classes for which the counts are less than or\n",
    "higher = vc[vc > xval] # greater than the cutoff\n",
    "\n",
    "# classes\n",
    "nc_high = len(higher)\n",
    "nc_low  = len(lower)\n",
    "# counts\n",
    "n_high = higher.sum()\n",
    "n_low  = lower.sum()\n",
    "\n",
    "# plot cross lines\n",
    "plt.axvline(xval, linestyle=':', color='k', label=f\"Cutoff ($N={xval}$, frac={frac})\")\n",
    "plt.axhline(closest, linestyle=':', color='k')\n",
    "\n",
    "# fill regions\n",
    "# lower box\n",
    "lb_lbl = f\"$N = {n_low}, C = {nc_low}$\"\n",
    "plt.fill_between(range(0, xval), plt.ylim()[0], closest, alpha=0.1, color='C1', label=lb_lbl)\n",
    "\n",
    "# upper box\n",
    "ub_lbl = f\"$N = {n_high}, C = {nc_high}$\"\n",
    "plt.fill_between(range(xval, max(counts)), closest, 1, alpha=0.1, color='C2', label=ub_lbl)\n",
    "#plt.axvspan(min(counts), xval, ymax=)\n",
    "\n",
    "plt.ylim(0, 1)\n",
    "plt.xlim(min(counts), max(counts))\n",
    "plt.xscale('log')\n",
    "plt.plot(unique_counts, dist)\n",
    "plt.title(f\"ECDF across {len(vc)} CATH topologies\")\n",
    "plt.xlabel(\"Samples $N$\")\n",
    "plt.ylabel(\"Frac. domains with at least $N$ samples\")\n",
    "plt.legend()\n",
    "plt.show()"
   ]
  },
  {
   "cell_type": "code",
   "execution_count": 181,
   "metadata": {},
   "outputs": [
    {
     "data": {
      "image/png": "[encoded data removed]",
      "text/plain": [
       "<Figure size 432x288 with 2 Axes>"
      ]
     },
     "metadata": {
      "needs_background": "light"
     },
     "output_type": "display_data"
    }
   ],
   "source": [
    "# fraction annotated per class\n",
    "fig, (ax1, ax2) = plt.subplots(1, 2)\n",
    "frac = vc.sort_values() / vc.sum()\n",
    "ax1.plot(frac.values)\n",
    "ax1.set_yscale('log')\n",
    "ax1.set_xlabel('class')\n",
    "ax1.set_ylabel('frac. annotated')\n",
    "ax1.set_xticks([0, len(vc)])\n",
    "ax2.set_yscale('log')\n",
    "ax2.hist(vc.values, bins=20)\n",
    "#ax2.set_yscale('log')\n",
    "plt.show()\n",
    "#plt.plot(v)\n"
   ]
  },
  {
   "cell_type": "code",
   "execution_count": null,
   "metadata": {},
   "outputs": [],
   "source": []
  }
 ],
 "metadata": {
  "kernelspec": {
   "display_name": "Python 3",
   "language": "python",
   "name": "python3"
  }
 },
 "nbformat": 4,
 "nbformat_minor": 4
}
