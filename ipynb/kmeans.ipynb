{
 "cells": [
  {
   "cell_type": "code",
   "execution_count": 107,
   "metadata": {},
   "outputs": [],
   "source": [
    "import sys\n",
    "import itertools\n",
    "from pathlib import Path\n",
    "\n",
    "import numpy as np\n",
    "import pandas as pd\n",
    "from collections import Counter\n",
    "import seaborn as sns\n",
    "import matplotlib.pyplot as plt\n",
    "import joblib\n",
    "from sklearn.cluster import KMeans\n",
    "\n",
    "sys.path.insert(0, \"../\")\n",
    "from biotoolbox.dbutils import MemoryMappedDatasetReader"
   ]
  },
  {
   "cell_type": "code",
   "execution_count": 101,
   "metadata": {},
   "outputs": [],
   "source": [
    "def make_reader(database_path):\n",
    "    return MemoryMappedDatasetReader(database_path, start=True)\n",
    "\n",
    "metadata = pd.read_table(\"../metadata/domain-classifications.tsv\")\n",
    "\n",
    "databases = [[make_reader(p), p] for p in sorted(list(Path(\"../databases/\").iterdir()))]\n",
    "\n",
    "names   = list(itertools.chain(*databases[0][0].ids()))\n",
    "cath_md = metadata[metadata.DOMAIN.isin(names)]"
   ]
  },
  {
   "cell_type": "code",
   "execution_count": 202,
   "metadata": {
    "scrolled": true
   },
   "outputs": [
    {
     "data": {
      "image/png": "[encoded data removed]",
      "text/plain": [
       "<Figure size 432x288 with 1 Axes>"
      ]
     },
     "metadata": {
      "needs_background": "light"
     },
     "output_type": "display_data"
    }
   ],
   "source": [
    "class_counts = Counter(cath_md.ARCH.values)\n",
    "# get classes with at least 5 representatives\n",
    "classes, counts = zip(*list(filter(lambda x: x[1] >= 100, sorted(class_counts.items(), key=lambda x: x[1]))))\n",
    "cath_md_gt5 = cath_md[cath_md.ARCH.isin(classes)]\n",
    "plt.bar(range(len(classes)), counts)\n",
    "plt.xticks(range(len(classes)), classes, rotation=20)\n",
    "plt.xlabel(\"Class\")\n",
    "plt.ylabel(\"Count\")\n",
    "plt.show()"
   ]
  },
  {
   "cell_type": "code",
   "execution_count": 203,
   "metadata": {
    "scrolled": false
   },
   "outputs": [
    {
     "name": "stdout",
     "output_type": "stream",
     "text": [
      "gae_128x2__96x1__64x2: (0:00:20.828488, 0:00:20.830002 total elapsed)\n",
      "gae_128x4: (0:00:19.665528, 0:00:40.495742 total elapsed)\n",
      "gae_64x5: (0:00:12.168844, 0:00:52.666239 total elapsed)\n",
      "gae_64x7: (0:00:17.942057, 0:01:10.608769 total elapsed)\n",
      "gae_96x4: (0:00:13.848053, 0:01:24.457209 total elapsed)\n"
     ]
    }
   ],
   "source": [
    "kmeans = []\n",
    "Nc = len(classes)\n",
    "\n",
    "from datetime import datetime\n",
    "start = datetime.now()\n",
    "\n",
    "for db, path in databases:\n",
    "    model = path.stem\n",
    "    substart = datetime.now()\n",
    "    X = np.array([db.get(x) for x in cath_md_gt5.DOMAIN.values])\n",
    "    if not Path(f\"./kmean_files/{model}.kmeans\").exists():\n",
    "        #print(f\"{model}: {substart}, ({substart - start} already done)\")\n",
    "        #print(X)\n",
    "        km = KMeans(n_clusters=Nc).fit(X)\n",
    "        joblib.dump(km, f\"./kmean_files/{model}.kmeans\")\n",
    "    else:\n",
    "        km = joblib.load(f\"./kmean_files/{model}.kmeans\")\n",
    "    kmeans.append([model, km])\n",
    "    \n",
    "    print(f\"{model}: ({datetime.now() - substart}, {datetime.now() - start} total elapsed)\")"
   ]
  },
  {
   "cell_type": "code",
   "execution_count": 205,
   "metadata": {},
   "outputs": [],
   "source": [
    "counter  = 0\n",
    "topo2num = dict()\n",
    "y   = []\n",
    "for topo in cath_md_gt5.ARCH.values:\n",
    "    try:\n",
    "        lnum = topo2num[topo]\n",
    "    except KeyError:\n",
    "        lnum = topo2num[topo] = counter\n",
    "        counter += 1\n",
    "    y.append(lnum)\n",
    "    \n",
    "y = np.array(y)"
   ]
  },
  {
   "cell_type": "code",
   "execution_count": 206,
   "metadata": {},
   "outputs": [],
   "source": [
    "from sklearn.metrics import normalized_mutual_info_score as nmi, adjusted_mutual_info_score as ami"
   ]
  },
  {
   "cell_type": "code",
   "execution_count": 207,
   "metadata": {},
   "outputs": [
    {
     "name": "stdout",
     "output_type": "stream",
     "text": [
      "model                     NMI    AMI\n",
      "-------------------------------------\n",
      "gae_128x2__96x1__64x2   0.1011 0.0985\n",
      "gae_128x4               0.0994 0.0968\n",
      "gae_64x5                0.0972 0.0946\n",
      "gae_64x7                0.0985 0.0959\n",
      "gae_96x4                0.1039 0.1012\n"
     ]
    }
   ],
   "source": [
    "print(f\"{'model':<23s} {'NMI':>5s} {'AMI':>6s}\")\n",
    "print(\"-------------------------------------\")\n",
    "for mod, km in kmeans:\n",
    "    yhat = km.labels_\n",
    "    print(f\"{mod:<23s} {nmi(y, yhat):0.4f} {ami(y, yhat):0.4f}\")"
   ]
  },
  {
   "cell_type": "code",
   "execution_count": null,
   "metadata": {},
   "outputs": [],
   "source": []
  }
 ],
 "metadata": {
  "kernelspec": {
   "display_name": "Python 3",
   "language": "python",
   "name": "python3"
  },
  "language_info": {
   "codemirror_mode": {
    "name": "ipython",
    "version": 3
   },
   "file_extension": ".py",
   "mimetype": "text/x-python",
   "name": "python",
   "nbconvert_exporter": "python",
   "pygments_lexer": "ipython3",
   "version": "3.7.5"
  }
 },
 "nbformat": 4,
 "nbformat_minor": 4
}
